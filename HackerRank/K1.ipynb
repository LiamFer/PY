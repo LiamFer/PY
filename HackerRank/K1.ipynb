{
 "cells": [
  {
   "cell_type": "code",
   "execution_count": null,
   "metadata": {},
   "outputs": [],
   "source": [
    "# insert i e: Insert integer  at position .\n",
    "# print: Print the list.\n",
    "# remove e: Delete the first occurrence of integer .\n",
    "# append e: Insert integer  at the end of the list.\n",
    "# sort: Sort the list.\n",
    "# pop: Pop the last element from the list.\n",
    "# reverse: Reverse the list.\n",
    "\n",
    "times = int(input())\n",
    "array = []\n",
    "i = 0\n",
    "while i < times:\n",
    "    ops = input().split()\n",
    "    if ops[0] == \"print\":\n",
    "        print(array)\n",
    "    elif ops[0] == \"remove\":\n",
    "        array.remove(int(ops[1]))\n",
    "    elif ops[0] == \"append\":\n",
    "        array.append(int(ops[1]))\n",
    "    elif ops[0] == \"sort\":\n",
    "        array.sort()\n",
    "    elif ops[0] == \"pop\":\n",
    "        array.pop()\n",
    "    elif ops[0] == \"reverse\":\n",
    "        array.reverse()    \n",
    "    elif ops[0] == \"insert\":\n",
    "        array.insert(int(ops[1]),int(ops[2]))\n",
    "    i+=1"
   ]
  },
  {
   "cell_type": "code",
   "execution_count": null,
   "metadata": {},
   "outputs": [],
   "source": [
    "# Hacker Rank não aceita\n",
    "a = tuple(int(a) for a in input().split())\n",
    "print(hash(a))"
   ]
  }
 ],
 "metadata": {
  "kernelspec": {
   "display_name": "Python 3",
   "language": "python",
   "name": "python3"
  },
  "language_info": {
   "codemirror_mode": {
    "name": "ipython",
    "version": 3
   },
   "file_extension": ".py",
   "mimetype": "text/x-python",
   "name": "python",
   "nbconvert_exporter": "python",
   "pygments_lexer": "ipython3",
   "version": "3.11.0"
  }
 },
 "nbformat": 4,
 "nbformat_minor": 2
}
