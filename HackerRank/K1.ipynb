{
 "cells": [
  {
   "cell_type": "code",
   "execution_count": null,
   "metadata": {},
   "outputs": [],
   "source": [
    "# insert i e: Insert integer  at position .\n",
    "# print: Print the list.\n",
    "# remove e: Delete the first occurrence of integer .\n",
    "# append e: Insert integer  at the end of the list.\n",
    "# sort: Sort the list.\n",
    "# pop: Pop the last element from the list.\n",
    "# reverse: Reverse the list.\n",
    "\n",
    "times = int(input())\n",
    "array = []\n",
    "i = 0\n",
    "while i < times:\n",
    "    ops = input().split()\n",
    "    if ops[0] == \"print\":\n",
    "        print(array)\n",
    "    elif ops[0] == \"remove\":\n",
    "        array.remove(int(ops[1]))\n",
    "    elif ops[0] == \"append\":\n",
    "        array.append(int(ops[1]))\n",
    "    elif ops[0] == \"sort\":\n",
    "        array.sort()\n",
    "    elif ops[0] == \"pop\":\n",
    "        array.pop()\n",
    "    elif ops[0] == \"reverse\":\n",
    "        array.reverse()    \n",
    "    elif ops[0] == \"insert\":\n",
    "        array.insert(int(ops[1]),int(ops[2]))\n",
    "    i+=1"
   ]
  }
 ],
 "metadata": {
  "language_info": {
   "name": "python"
  }
 },
 "nbformat": 4,
 "nbformat_minor": 2
}
